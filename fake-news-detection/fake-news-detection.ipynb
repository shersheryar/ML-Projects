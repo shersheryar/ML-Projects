{
 "cells": [
  {
   "cell_type": "markdown",
   "id": "6b7b05d9",
   "metadata": {},
   "source": [
    "About the Dataset:\n",
    "\n",
    "1. id: unique id for a news article\n",
    "2. title: the title of a news article\n",
    "3. author: author of the news article\n",
    "4. text: the text of the article; could be incomplete\n",
    "5. label: a label that marks whether the news article is real or fake:\n",
    "           1: Fake news\n",
    "           0: real News\n",
    "\n",
    "\n",
    "\n"
   ]
  },
  {
   "cell_type": "code",
   "execution_count": 1,
   "id": "bd36af2a",
   "metadata": {},
   "outputs": [],
   "source": [
    "#installing all the required libraries\n",
    "# !pip install numpy pandas nltk scikit-learn\n",
    "\n",
    "\n",
    "import numpy as np\n",
    "import pandas as pd"
   ]
  },
  {
   "cell_type": "markdown",
   "id": "523e2763",
   "metadata": {},
   "source": [
    "# Step 1: Loading the dataset"
   ]
  },
  {
   "cell_type": "code",
   "execution_count": 2,
   "id": "2526c188",
   "metadata": {},
   "outputs": [],
   "source": [
    "df = pd.read_csv(\"../datasets/train.csv\", sep=';', engine='python', encoding='utf-8', on_bad_lines='skip')\n"
   ]
  },
  {
   "cell_type": "code",
   "execution_count": 3,
   "id": "2004a599",
   "metadata": {},
   "outputs": [
    {
     "data": {
      "text/html": [
       "<div>\n",
       "<style scoped>\n",
       "    .dataframe tbody tr th:only-of-type {\n",
       "        vertical-align: middle;\n",
       "    }\n",
       "\n",
       "    .dataframe tbody tr th {\n",
       "        vertical-align: top;\n",
       "    }\n",
       "\n",
       "    .dataframe thead th {\n",
       "        text-align: right;\n",
       "    }\n",
       "</style>\n",
       "<table border=\"1\" class=\"dataframe\">\n",
       "  <thead>\n",
       "    <tr style=\"text-align: right;\">\n",
       "      <th></th>\n",
       "      <th>id</th>\n",
       "      <th>title</th>\n",
       "      <th>text</th>\n",
       "      <th>label</th>\n",
       "    </tr>\n",
       "  </thead>\n",
       "  <tbody>\n",
       "    <tr>\n",
       "      <th>0</th>\n",
       "      <td>0</td>\n",
       "      <td>Palestinians switch off Christmas lights in Be...</td>\n",
       "      <td>RAMALLAH, West Bank (Reuters) - Palestinians s...</td>\n",
       "      <td>1</td>\n",
       "    </tr>\n",
       "    <tr>\n",
       "      <th>1</th>\n",
       "      <td>1</td>\n",
       "      <td>China says Trump call with Taiwan president wo...</td>\n",
       "      <td>BEIJING (Reuters) - U.S. President-elect Donal...</td>\n",
       "      <td>1</td>\n",
       "    </tr>\n",
       "    <tr>\n",
       "      <th>2</th>\n",
       "      <td>2</td>\n",
       "      <td>FAIL! The Trump Organization’s Credit Score W...</td>\n",
       "      <td>While the controversy over Trump s personal ta...</td>\n",
       "      <td>0</td>\n",
       "    </tr>\n",
       "    <tr>\n",
       "      <th>3</th>\n",
       "      <td>3</td>\n",
       "      <td>Zimbabwe military chief's China trip was norma...</td>\n",
       "      <td>BEIJING (Reuters) - A trip to Beijing last wee...</td>\n",
       "      <td>1</td>\n",
       "    </tr>\n",
       "    <tr>\n",
       "      <th>4</th>\n",
       "      <td>4</td>\n",
       "      <td>THE MOST UNCOURAGEOUS PRESIDENT EVER Receives ...</td>\n",
       "      <td>There has never been a more UNCOURAGEOUS perso...</td>\n",
       "      <td>0</td>\n",
       "    </tr>\n",
       "  </tbody>\n",
       "</table>\n",
       "</div>"
      ],
      "text/plain": [
       "   id                                              title  \\\n",
       "0   0  Palestinians switch off Christmas lights in Be...   \n",
       "1   1  China says Trump call with Taiwan president wo...   \n",
       "2   2   FAIL! The Trump Organization’s Credit Score W...   \n",
       "3   3  Zimbabwe military chief's China trip was norma...   \n",
       "4   4  THE MOST UNCOURAGEOUS PRESIDENT EVER Receives ...   \n",
       "\n",
       "                                                text  label  \n",
       "0  RAMALLAH, West Bank (Reuters) - Palestinians s...      1  \n",
       "1  BEIJING (Reuters) - U.S. President-elect Donal...      1  \n",
       "2  While the controversy over Trump s personal ta...      0  \n",
       "3  BEIJING (Reuters) - A trip to Beijing last wee...      1  \n",
       "4  There has never been a more UNCOURAGEOUS perso...      0  "
      ]
     },
     "execution_count": 3,
     "metadata": {},
     "output_type": "execute_result"
    }
   ],
   "source": [
    "df.head()"
   ]
  },
  {
   "cell_type": "code",
   "execution_count": 4,
   "id": "a7b6d908",
   "metadata": {},
   "outputs": [
    {
     "data": {
      "text/plain": [
       "(24353, 4)"
      ]
     },
     "execution_count": 4,
     "metadata": {},
     "output_type": "execute_result"
    }
   ],
   "source": [
    "df.shape"
   ]
  },
  {
   "cell_type": "code",
   "execution_count": 5,
   "id": "751d56f9",
   "metadata": {},
   "outputs": [],
   "source": [
    "#droping the extra column\n",
    "df = df.drop(\"id\", axis=1)"
   ]
  },
  {
   "cell_type": "code",
   "execution_count": 6,
   "id": "00e6b2db",
   "metadata": {},
   "outputs": [
    {
     "data": {
      "text/html": [
       "<div>\n",
       "<style scoped>\n",
       "    .dataframe tbody tr th:only-of-type {\n",
       "        vertical-align: middle;\n",
       "    }\n",
       "\n",
       "    .dataframe tbody tr th {\n",
       "        vertical-align: top;\n",
       "    }\n",
       "\n",
       "    .dataframe thead th {\n",
       "        text-align: right;\n",
       "    }\n",
       "</style>\n",
       "<table border=\"1\" class=\"dataframe\">\n",
       "  <thead>\n",
       "    <tr style=\"text-align: right;\">\n",
       "      <th></th>\n",
       "      <th>title</th>\n",
       "      <th>text</th>\n",
       "      <th>label</th>\n",
       "    </tr>\n",
       "  </thead>\n",
       "  <tbody>\n",
       "    <tr>\n",
       "      <th>0</th>\n",
       "      <td>Palestinians switch off Christmas lights in Be...</td>\n",
       "      <td>RAMALLAH, West Bank (Reuters) - Palestinians s...</td>\n",
       "      <td>1</td>\n",
       "    </tr>\n",
       "    <tr>\n",
       "      <th>1</th>\n",
       "      <td>China says Trump call with Taiwan president wo...</td>\n",
       "      <td>BEIJING (Reuters) - U.S. President-elect Donal...</td>\n",
       "      <td>1</td>\n",
       "    </tr>\n",
       "    <tr>\n",
       "      <th>2</th>\n",
       "      <td>FAIL! The Trump Organization’s Credit Score W...</td>\n",
       "      <td>While the controversy over Trump s personal ta...</td>\n",
       "      <td>0</td>\n",
       "    </tr>\n",
       "    <tr>\n",
       "      <th>3</th>\n",
       "      <td>Zimbabwe military chief's China trip was norma...</td>\n",
       "      <td>BEIJING (Reuters) - A trip to Beijing last wee...</td>\n",
       "      <td>1</td>\n",
       "    </tr>\n",
       "    <tr>\n",
       "      <th>4</th>\n",
       "      <td>THE MOST UNCOURAGEOUS PRESIDENT EVER Receives ...</td>\n",
       "      <td>There has never been a more UNCOURAGEOUS perso...</td>\n",
       "      <td>0</td>\n",
       "    </tr>\n",
       "    <tr>\n",
       "      <th>...</th>\n",
       "      <td>...</td>\n",
       "      <td>...</td>\n",
       "      <td>...</td>\n",
       "    </tr>\n",
       "    <tr>\n",
       "      <th>24348</th>\n",
       "      <td>Mexico Senate committee OK's air transport dea...</td>\n",
       "      <td>MEXICO CITY (Reuters) - A key committee in Mex...</td>\n",
       "      <td>1</td>\n",
       "    </tr>\n",
       "    <tr>\n",
       "      <th>24349</th>\n",
       "      <td>BREAKING: HILLARY CLINTON’S STATE DEPARTMENT G...</td>\n",
       "      <td>IF SHE S NOT TOAST NOW THEN WE RE IN BIGGER TR...</td>\n",
       "      <td>0</td>\n",
       "    </tr>\n",
       "    <tr>\n",
       "      <th>24350</th>\n",
       "      <td>trump breaks from stump speech to admire beaut...</td>\n",
       "      <td>kremlin nato was created for agression  \\r\\nru...</td>\n",
       "      <td>0</td>\n",
       "    </tr>\n",
       "    <tr>\n",
       "      <th>24351</th>\n",
       "      <td>NFL PLAYER Delivers Courageous Message: Stop B...</td>\n",
       "      <td>Dallas Cowboys star wide receiver Dez Bryant t...</td>\n",
       "      <td>0</td>\n",
       "    </tr>\n",
       "    <tr>\n",
       "      <th>24352</th>\n",
       "      <td>NORDSTROM STOCK TAKES NOSEDIVE After Trump Twe...</td>\n",
       "      <td>UPDATE: Nordstrom stock closed up slightly tod...</td>\n",
       "      <td>0</td>\n",
       "    </tr>\n",
       "  </tbody>\n",
       "</table>\n",
       "<p>24353 rows × 3 columns</p>\n",
       "</div>"
      ],
      "text/plain": [
       "                                                   title  \\\n",
       "0      Palestinians switch off Christmas lights in Be...   \n",
       "1      China says Trump call with Taiwan president wo...   \n",
       "2       FAIL! The Trump Organization’s Credit Score W...   \n",
       "3      Zimbabwe military chief's China trip was norma...   \n",
       "4      THE MOST UNCOURAGEOUS PRESIDENT EVER Receives ...   \n",
       "...                                                  ...   \n",
       "24348  Mexico Senate committee OK's air transport dea...   \n",
       "24349  BREAKING: HILLARY CLINTON’S STATE DEPARTMENT G...   \n",
       "24350  trump breaks from stump speech to admire beaut...   \n",
       "24351  NFL PLAYER Delivers Courageous Message: Stop B...   \n",
       "24352  NORDSTROM STOCK TAKES NOSEDIVE After Trump Twe...   \n",
       "\n",
       "                                                    text  label  \n",
       "0      RAMALLAH, West Bank (Reuters) - Palestinians s...      1  \n",
       "1      BEIJING (Reuters) - U.S. President-elect Donal...      1  \n",
       "2      While the controversy over Trump s personal ta...      0  \n",
       "3      BEIJING (Reuters) - A trip to Beijing last wee...      1  \n",
       "4      There has never been a more UNCOURAGEOUS perso...      0  \n",
       "...                                                  ...    ...  \n",
       "24348  MEXICO CITY (Reuters) - A key committee in Mex...      1  \n",
       "24349  IF SHE S NOT TOAST NOW THEN WE RE IN BIGGER TR...      0  \n",
       "24350  kremlin nato was created for agression  \\r\\nru...      0  \n",
       "24351  Dallas Cowboys star wide receiver Dez Bryant t...      0  \n",
       "24352  UPDATE: Nordstrom stock closed up slightly tod...      0  \n",
       "\n",
       "[24353 rows x 3 columns]"
      ]
     },
     "execution_count": 6,
     "metadata": {},
     "output_type": "execute_result"
    }
   ],
   "source": [
    "df"
   ]
  },
  {
   "cell_type": "markdown",
   "id": "c36c8661",
   "metadata": {},
   "source": [
    "# Step 2: Data preprocessing"
   ]
  },
  {
   "cell_type": "code",
   "execution_count": 7,
   "id": "70b2eae7",
   "metadata": {},
   "outputs": [
    {
     "data": {
      "text/plain": [
       "title    0\n",
       "text     0\n",
       "label    0\n",
       "dtype: int64"
      ]
     },
     "execution_count": 7,
     "metadata": {},
     "output_type": "execute_result"
    }
   ],
   "source": [
    "# dropping the null values\n",
    "df = df.dropna()\n",
    "# checking the null values\n",
    "df.isnull().sum()"
   ]
  },
  {
   "cell_type": "code",
   "execution_count": 8,
   "id": "affea40e",
   "metadata": {},
   "outputs": [
    {
     "name": "stderr",
     "output_type": "stream",
     "text": [
      "[nltk_data] Downloading package stopwords to /home/no0ne/nltk_data...\n",
      "[nltk_data]   Package stopwords is already up-to-date!\n"
     ]
    },
    {
     "data": {
      "text/plain": [
       "True"
      ]
     },
     "execution_count": 8,
     "metadata": {},
     "output_type": "execute_result"
    }
   ],
   "source": [
    "import re\n",
    "from nltk.corpus import stopwords\n",
    "from nltk.stem.porter import PorterStemmer\n",
    "import nltk\n",
    "nltk.download('stopwords')"
   ]
  },
  {
   "cell_type": "code",
   "execution_count": 9,
   "id": "cd8c5b58",
   "metadata": {},
   "outputs": [],
   "source": [
    "# Initializing the PorterStemmer for removing suffixes\n",
    "ps = PorterStemmer()\n",
    "# Getting the list of stopwords in English\n",
    "stop_words = stopwords.words('english')"
   ]
  },
  {
   "cell_type": "code",
   "execution_count": 10,
   "id": "95c8c30a",
   "metadata": {},
   "outputs": [],
   "source": [
    "def preprocess_text(text):\n",
    "    # Removing non-alphabetic characters\n",
    "    text = re.sub('[^a-zA-Z]', ' ', text)\n",
    "    text = text.lower()\n",
    "    words = text.split()\n",
    "    # Stemming and removing stopwords\n",
    "    processed_words = [ps.stem(word) for word in words if word not in stop_words]\n",
    "    return ' '.join(processed_words)"
   ]
  },
  {
   "cell_type": "code",
   "execution_count": 21,
   "id": "3906e46c",
   "metadata": {},
   "outputs": [
    {
     "data": {
      "text/html": [
       "<div>\n",
       "<style scoped>\n",
       "    .dataframe tbody tr th:only-of-type {\n",
       "        vertical-align: middle;\n",
       "    }\n",
       "\n",
       "    .dataframe tbody tr th {\n",
       "        vertical-align: top;\n",
       "    }\n",
       "\n",
       "    .dataframe thead th {\n",
       "        text-align: right;\n",
       "    }\n",
       "</style>\n",
       "<table border=\"1\" class=\"dataframe\">\n",
       "  <thead>\n",
       "    <tr style=\"text-align: right;\">\n",
       "      <th></th>\n",
       "      <th>title</th>\n",
       "      <th>text</th>\n",
       "      <th>label</th>\n",
       "      <th>content</th>\n",
       "    </tr>\n",
       "  </thead>\n",
       "  <tbody>\n",
       "    <tr>\n",
       "      <th>0</th>\n",
       "      <td>Palestinians switch off Christmas lights in Be...</td>\n",
       "      <td>RAMALLAH, West Bank (Reuters) - Palestinians s...</td>\n",
       "      <td>1</td>\n",
       "      <td>Palestinians switch off Christmas lights in Be...</td>\n",
       "    </tr>\n",
       "    <tr>\n",
       "      <th>1</th>\n",
       "      <td>China says Trump call with Taiwan president wo...</td>\n",
       "      <td>BEIJING (Reuters) - U.S. President-elect Donal...</td>\n",
       "      <td>1</td>\n",
       "      <td>China says Trump call with Taiwan president wo...</td>\n",
       "    </tr>\n",
       "    <tr>\n",
       "      <th>2</th>\n",
       "      <td>FAIL! The Trump Organization’s Credit Score W...</td>\n",
       "      <td>While the controversy over Trump s personal ta...</td>\n",
       "      <td>0</td>\n",
       "      <td>FAIL! The Trump Organization’s Credit Score W...</td>\n",
       "    </tr>\n",
       "    <tr>\n",
       "      <th>3</th>\n",
       "      <td>Zimbabwe military chief's China trip was norma...</td>\n",
       "      <td>BEIJING (Reuters) - A trip to Beijing last wee...</td>\n",
       "      <td>1</td>\n",
       "      <td>Zimbabwe military chief's China trip was norma...</td>\n",
       "    </tr>\n",
       "    <tr>\n",
       "      <th>4</th>\n",
       "      <td>THE MOST UNCOURAGEOUS PRESIDENT EVER Receives ...</td>\n",
       "      <td>There has never been a more UNCOURAGEOUS perso...</td>\n",
       "      <td>0</td>\n",
       "      <td>THE MOST UNCOURAGEOUS PRESIDENT EVER Receives ...</td>\n",
       "    </tr>\n",
       "    <tr>\n",
       "      <th>...</th>\n",
       "      <td>...</td>\n",
       "      <td>...</td>\n",
       "      <td>...</td>\n",
       "      <td>...</td>\n",
       "    </tr>\n",
       "    <tr>\n",
       "      <th>24348</th>\n",
       "      <td>Mexico Senate committee OK's air transport dea...</td>\n",
       "      <td>MEXICO CITY (Reuters) - A key committee in Mex...</td>\n",
       "      <td>1</td>\n",
       "      <td>Mexico Senate committee OK's air transport dea...</td>\n",
       "    </tr>\n",
       "    <tr>\n",
       "      <th>24349</th>\n",
       "      <td>BREAKING: HILLARY CLINTON’S STATE DEPARTMENT G...</td>\n",
       "      <td>IF SHE S NOT TOAST NOW THEN WE RE IN BIGGER TR...</td>\n",
       "      <td>0</td>\n",
       "      <td>BREAKING: HILLARY CLINTON’S STATE DEPARTMENT G...</td>\n",
       "    </tr>\n",
       "    <tr>\n",
       "      <th>24350</th>\n",
       "      <td>trump breaks from stump speech to admire beaut...</td>\n",
       "      <td>kremlin nato was created for agression  \\r\\nru...</td>\n",
       "      <td>0</td>\n",
       "      <td>trump breaks from stump speech to admire beaut...</td>\n",
       "    </tr>\n",
       "    <tr>\n",
       "      <th>24351</th>\n",
       "      <td>NFL PLAYER Delivers Courageous Message: Stop B...</td>\n",
       "      <td>Dallas Cowboys star wide receiver Dez Bryant t...</td>\n",
       "      <td>0</td>\n",
       "      <td>NFL PLAYER Delivers Courageous Message: Stop B...</td>\n",
       "    </tr>\n",
       "    <tr>\n",
       "      <th>24352</th>\n",
       "      <td>NORDSTROM STOCK TAKES NOSEDIVE After Trump Twe...</td>\n",
       "      <td>UPDATE: Nordstrom stock closed up slightly tod...</td>\n",
       "      <td>0</td>\n",
       "      <td>NORDSTROM STOCK TAKES NOSEDIVE After Trump Twe...</td>\n",
       "    </tr>\n",
       "  </tbody>\n",
       "</table>\n",
       "<p>24353 rows × 4 columns</p>\n",
       "</div>"
      ],
      "text/plain": [
       "                                                   title  \\\n",
       "0      Palestinians switch off Christmas lights in Be...   \n",
       "1      China says Trump call with Taiwan president wo...   \n",
       "2       FAIL! The Trump Organization’s Credit Score W...   \n",
       "3      Zimbabwe military chief's China trip was norma...   \n",
       "4      THE MOST UNCOURAGEOUS PRESIDENT EVER Receives ...   \n",
       "...                                                  ...   \n",
       "24348  Mexico Senate committee OK's air transport dea...   \n",
       "24349  BREAKING: HILLARY CLINTON’S STATE DEPARTMENT G...   \n",
       "24350  trump breaks from stump speech to admire beaut...   \n",
       "24351  NFL PLAYER Delivers Courageous Message: Stop B...   \n",
       "24352  NORDSTROM STOCK TAKES NOSEDIVE After Trump Twe...   \n",
       "\n",
       "                                                    text  label  \\\n",
       "0      RAMALLAH, West Bank (Reuters) - Palestinians s...      1   \n",
       "1      BEIJING (Reuters) - U.S. President-elect Donal...      1   \n",
       "2      While the controversy over Trump s personal ta...      0   \n",
       "3      BEIJING (Reuters) - A trip to Beijing last wee...      1   \n",
       "4      There has never been a more UNCOURAGEOUS perso...      0   \n",
       "...                                                  ...    ...   \n",
       "24348  MEXICO CITY (Reuters) - A key committee in Mex...      1   \n",
       "24349  IF SHE S NOT TOAST NOW THEN WE RE IN BIGGER TR...      0   \n",
       "24350  kremlin nato was created for agression  \\r\\nru...      0   \n",
       "24351  Dallas Cowboys star wide receiver Dez Bryant t...      0   \n",
       "24352  UPDATE: Nordstrom stock closed up slightly tod...      0   \n",
       "\n",
       "                                                 content  \n",
       "0      Palestinians switch off Christmas lights in Be...  \n",
       "1      China says Trump call with Taiwan president wo...  \n",
       "2       FAIL! The Trump Organization’s Credit Score W...  \n",
       "3      Zimbabwe military chief's China trip was norma...  \n",
       "4      THE MOST UNCOURAGEOUS PRESIDENT EVER Receives ...  \n",
       "...                                                  ...  \n",
       "24348  Mexico Senate committee OK's air transport dea...  \n",
       "24349  BREAKING: HILLARY CLINTON’S STATE DEPARTMENT G...  \n",
       "24350  trump breaks from stump speech to admire beaut...  \n",
       "24351  NFL PLAYER Delivers Courageous Message: Stop B...  \n",
       "24352  NORDSTROM STOCK TAKES NOSEDIVE After Trump Twe...  \n",
       "\n",
       "[24353 rows x 4 columns]"
      ]
     },
     "execution_count": 21,
     "metadata": {},
     "output_type": "execute_result"
    }
   ],
   "source": [
    "df[\"content\"] = df[\"title\"] + \" \" + df[\"text\"]\n",
    "df\n"
   ]
  },
  {
   "cell_type": "code",
   "execution_count": 20,
   "id": "ce929957",
   "metadata": {},
   "outputs": [
    {
     "data": {
      "text/plain": [
       "(24353, 4)"
      ]
     },
     "execution_count": 20,
     "metadata": {},
     "output_type": "execute_result"
    }
   ],
   "source": [
    "df.shape"
   ]
  },
  {
   "cell_type": "code",
   "execution_count": 12,
   "id": "56536b31",
   "metadata": {},
   "outputs": [],
   "source": [
    "# applying the preprocess_text function\n",
    "df[\"content\"] = df[\"content\"].apply(preprocess_text)"
   ]
  },
  {
   "cell_type": "code",
   "execution_count": 13,
   "id": "36fca5d4",
   "metadata": {},
   "outputs": [
    {
     "data": {
      "text/plain": [
       "0    palestinian switch christma light bethlehem an...\n",
       "1    china say trump call taiwan presid chang islan...\n",
       "2    fail trump organ credit score make laugh contr...\n",
       "3    zimbabw militari chief china trip normal visit...\n",
       "4    uncourag presid ever receiv courag award proce...\n",
       "5    suspect boko haram suicid bomber kill least ni...\n",
       "6    watch john oliv present gop debat clowntown f ...\n",
       "7    senat democrat ask trump attorney gener pick r...\n",
       "8    trump humili republican latest hissi fit side ...\n",
       "9    maci get boot loyal custom fire trump know pat...\n",
       "Name: content, dtype: object"
      ]
     },
     "execution_count": 13,
     "metadata": {},
     "output_type": "execute_result"
    }
   ],
   "source": [
    "#checking the processed text\n",
    "df[\"content\"].head(10)"
   ]
  },
  {
   "cell_type": "markdown",
   "id": "a2c52bb3",
   "metadata": {},
   "source": [
    "# Step 3: Feature Extraction"
   ]
  },
  {
   "cell_type": "code",
   "execution_count": 14,
   "id": "a51a8f86",
   "metadata": {},
   "outputs": [],
   "source": [
    "# for feature extraction using TF-IDF Vectorizer\n",
    "from sklearn.feature_extraction.text import TfidfVectorizer\n",
    "vectorizer = TfidfVectorizer( max_features=5000, ngram_range=(1, 3))"
   ]
  },
  {
   "cell_type": "code",
   "execution_count": null,
   "id": "e7dd5548",
   "metadata": {},
   "outputs": [],
   "source": [
    "# in this step we will covert the text data into feature vectors\n",
    "X = vectorizer.fit_transform(df[\"content\"]).toarray()\n"
   ]
  },
  {
   "cell_type": "code",
   "execution_count": 26,
   "id": "dd38d8c9",
   "metadata": {},
   "outputs": [],
   "source": [
    "Y = df[\"label\"].values"
   ]
  },
  {
   "cell_type": "code",
   "execution_count": 27,
   "id": "44cd7e42",
   "metadata": {},
   "outputs": [
    {
     "name": "stdout",
     "output_type": "stream",
     "text": [
      "(24353, 5000)\n",
      "(24353,)\n"
     ]
    }
   ],
   "source": [
    "print(X.shape)\n",
    "print(Y.shape)"
   ]
  },
  {
   "cell_type": "code",
   "execution_count": null,
   "id": "49496bc7",
   "metadata": {},
   "outputs": [],
   "source": [
    "from sklearn.model_selection import train_test_split\n",
    "X_train, X_test, Y_train, Y_test = train_test_split(X, Y, test_size=0.2, random_state=2)"
   ]
  },
  {
   "cell_type": "code",
   "execution_count": null,
   "id": "1e6c6122",
   "metadata": {},
   "outputs": [],
   "source": []
  }
 ],
 "metadata": {
  "kernelspec": {
   "display_name": ".venv (3.12.3)",
   "language": "python",
   "name": "python3"
  },
  "language_info": {
   "codemirror_mode": {
    "name": "ipython",
    "version": 3
   },
   "file_extension": ".py",
   "mimetype": "text/x-python",
   "name": "python",
   "nbconvert_exporter": "python",
   "pygments_lexer": "ipython3",
   "version": "3.12.3"
  }
 },
 "nbformat": 4,
 "nbformat_minor": 5
}
